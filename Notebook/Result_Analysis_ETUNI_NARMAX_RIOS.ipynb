{
  "nbformat": 4,
  "nbformat_minor": 0,
  "metadata": {
    "colab": {
      "provenance": []
    },
    "kernelspec": {
      "name": "python3",
      "display_name": "Python 3"
    },
    "language_info": {
      "name": "python"
    }
  },
  "cells": [
    {
      "cell_type": "code",
      "execution_count": 1,
      "metadata": {
        "id": "Bb2fcKzYuPjp"
      },
      "outputs": [],
      "source": [
        "#-- Basics Library\n",
        "import matplotlib.pyplot as plt\n",
        "import numpy as np\n",
        "import pandas as pd\n",
        "import seaborn as sns\n",
        "import os \n",
        "from sklearn.preprocessing import MinMaxScaler\n",
        "\n",
        "\n",
        "#-- Metrics Calculation\n",
        "from sklearn.metrics import mean_absolute_error as MAE\n",
        "from sklearn.metrics import mean_squared_error as MSE\n",
        "from sklearn.metrics import r2_score as R2\n",
        "from sklearn.metrics import mean_absolute_percentage_error as MAPE\n",
        "\n",
        "\n",
        "#-- Warnings OFF\n",
        "from warnings import simplefilter\n",
        "\n",
        "%matplotlib inline"
      ]
    },
    {
      "cell_type": "code",
      "source": [],
      "metadata": {
        "id": "kc8O3tOOudpG"
      },
      "execution_count": null,
      "outputs": []
    }
  ]
}